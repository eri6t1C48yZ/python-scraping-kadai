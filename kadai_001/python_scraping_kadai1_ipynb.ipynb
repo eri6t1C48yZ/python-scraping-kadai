{
  "nbformat": 4,
  "nbformat_minor": 0,
  "metadata": {
    "colab": {
      "provenance": []
    },
    "kernelspec": {
      "name": "python3",
      "display_name": "Python 3"
    },
    "language_info": {
      "name": "python"
    }
  },
  "cells": [
    {
      "cell_type": "code",
      "execution_count": 1,
      "metadata": {
        "colab": {
          "base_uri": "https://localhost:8080/"
        },
        "id": "zk1AZKP6pIFk",
        "outputId": "edb07e5a-64af-4c4e-bd02-b9b46957aaa9"
      },
      "outputs": [
        {
          "output_type": "stream",
          "name": "stdout",
          "text": [
            "　台風5号は、12日(月)朝から昼前にかけて東北に上陸して、東北を横断する見込みだ。東北を中心に土砂災害、河川の増水や氾濫、低い土地の浸水に厳重に警戒し、暴風や高波に警戒が必要。東北では11日(日)夜から12日(月)午前中にかけて、線状降水帯が発生して大雨災害発生の危険度が急激に高まる可能性がある。　台風5号は、11日(日)午後3時には石巻市の東南東にあって、1時間におよそ10キロの速さで北西へ進んでいる。中心の気圧は980ヘクトパスカル、中心付近の最大風速は25メートル、最大瞬間風速は35メートルで、中心の東側500キロ以内と西側280キロ以内では風速15メートル以上の強い風が吹いている。\n",
            "　東北の太平洋側では、台風周辺の暖かく湿った空気が流れ込んでいるため、断続的にやや強い雨が降っている。\n",
            "　台風は、勢力を維持したまま日本の東を北西に進み、12日(月)朝から昼前にかけて東北に上陸して、東北を横断する見込みだ。その後、13日(火)にかけて、台風は日本海に進んで熱帯低気圧に変わるが動きが遅くなるため、北日本中心に14日(水)ごろにかけて、台風や台風から変わった熱帯低気圧の影響が長引くおそれがある。　東北を中心に、13日(火)にかけて雷を伴った激しい雨が降り、12日(月)は非常に激しい雨が降る所がある見込み。東北では、総雨量が平年の8月1か月分の降水量を超える記録的な大雨となるおそれがある。\n",
            "　線状降水帯が発生した場合は、局地的にさらに雨量が増えるおそれがある。線状降水帯が発生して大雨災害発生の危険度が急激に高まる可能性のある地域と期間は、青森県、岩手県、宮城県で、11日(日)夜から12日(月)午前中にかけて。　北日本では12日(月)にかけて、海上を中心に非常に強い風が吹く所がある見込み。　北日本では12日(月)にかけて、大しけとなる所がある見込み。　土砂災害、河川の増水や氾濫、低い土地の浸水に厳重に警戒し、暴風や高波に警戒が必要。東北では、落雷や竜巻などの激しい突風にも注意が必要だ。発達した積乱雲の近づく兆しがある場合には、建物内に移動するなど安全確保に努めたい。\n"
          ]
        }
      ],
      "source": [
        "import requests\n",
        "from bs4 import BeautifulSoup\n",
        "\n",
        "url = 'https://news.yahoo.co.jp/articles/30e2ea9dc1db9aacc8b98b2a9f6bde17d5332d79'\n",
        "response = requests.get(url)\n",
        "\n",
        "soup = BeautifulSoup(response.text, 'html.parser')\n",
        "sentences = soup.select('#uamods > .article_body > div >p')\n",
        "article_text = ''.join([sentence.text for sentence in sentences])\n",
        "print(article_text)"
      ]
    }
  ]
}